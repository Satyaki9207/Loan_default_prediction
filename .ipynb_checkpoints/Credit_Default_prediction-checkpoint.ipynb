{
 "cells": [
  {
   "cell_type": "markdown",
   "metadata": {},
   "source": [
    "## Problem Understanding"
   ]
  },
  {
   "cell_type": "markdown",
   "metadata": {},
   "source": [
    "A bank is interested in predicting which customers are likely to default on loans in advance.It can adjust customer's credit worthiness criteria accordingly and avoid giving out bad loans. It has collected data like credit utilization,age,past delinquency,debt ratio,income etc related to the customer. "
   ]
  },
  {
   "cell_type": "markdown",
   "metadata": {},
   "source": [
    "## Data Understanding"
   ]
  },
  {
   "cell_type": "markdown",
   "metadata": {},
   "source": [
    "![](variable_description.PNG)"
   ]
  },
  {
   "cell_type": "markdown",
   "metadata": {},
   "source": [
    "## Workflow\n",
    "+ Clean and Wrangle data to get it in desired format\n",
    "+ Visualize and understand which factors are more important in predicting delinquency\n",
    "+ Build models\n",
    "+ Evaluate models\n",
    "+ Predict on test set.  \n",
    "Here I'll be using xgboost,catboost and neural networks to predict delinquency since these are the top performing ML algorithms."
   ]
  },
  {
   "cell_type": "code",
   "execution_count": 31,
   "metadata": {},
   "outputs": [],
   "source": [
    "import numpy as np\n",
    "import pandas as pd\n",
    "import time\n",
    "import matplotlib.pyplot as plt\n",
    "import seaborn as sns\n",
    "import matplotlib as mpl\n",
    "from imblearn.over_sampling import SMOTE\n",
    "\n",
    "from sklearn.preprocessing import StandardScaler\n",
    "from sklearn.preprocessing import OneHotEncoder\n",
    "from sklearn.model_selection import train_test_split\n",
    "from sklearn.pipeline import Pipeline\n",
    "from sklearn.model_selection import RandomizedSearchCV, cross_val_score,KFold\n",
    "from sklearn.metrics import f1_score\n",
    "\n",
    "from sklearn.ensemble import RandomForestClassifier\n",
    "from sklearn.linear_model import LogisticRegression\n",
    "from xgboost import XGBClassifier"
   ]
  },
  {
   "cell_type": "code",
   "execution_count": 6,
   "metadata": {},
   "outputs": [
    {
     "data": {
      "text/html": [
       "<div>\n",
       "<style scoped>\n",
       "    .dataframe tbody tr th:only-of-type {\n",
       "        vertical-align: middle;\n",
       "    }\n",
       "\n",
       "    .dataframe tbody tr th {\n",
       "        vertical-align: top;\n",
       "    }\n",
       "\n",
       "    .dataframe thead th {\n",
       "        text-align: right;\n",
       "    }\n",
       "</style>\n",
       "<table border=\"1\" class=\"dataframe\">\n",
       "  <thead>\n",
       "    <tr style=\"text-align: right;\">\n",
       "      <th></th>\n",
       "      <th>SeriousDlqin2yrs</th>\n",
       "      <th>RevolvingUtilizationOfUnsecuredLines</th>\n",
       "      <th>age</th>\n",
       "      <th>NumberOfTime30-59DaysPastDueNotWorse</th>\n",
       "      <th>DebtRatio</th>\n",
       "      <th>MonthlyIncome</th>\n",
       "      <th>NumberOfOpenCreditLinesAndLoans</th>\n",
       "      <th>NumberOfTimes90DaysLate</th>\n",
       "      <th>NumberRealEstateLoansOrLines</th>\n",
       "      <th>NumberOfTime60-89DaysPastDueNotWorse</th>\n",
       "      <th>NumberOfDependents</th>\n",
       "    </tr>\n",
       "  </thead>\n",
       "  <tbody>\n",
       "    <tr>\n",
       "      <th>0</th>\n",
       "      <td>1</td>\n",
       "      <td>0.766127</td>\n",
       "      <td>45</td>\n",
       "      <td>2</td>\n",
       "      <td>0.802982</td>\n",
       "      <td>9120.0</td>\n",
       "      <td>13</td>\n",
       "      <td>0</td>\n",
       "      <td>6</td>\n",
       "      <td>0</td>\n",
       "      <td>2.0</td>\n",
       "    </tr>\n",
       "    <tr>\n",
       "      <th>1</th>\n",
       "      <td>0</td>\n",
       "      <td>0.957151</td>\n",
       "      <td>40</td>\n",
       "      <td>0</td>\n",
       "      <td>0.121876</td>\n",
       "      <td>2600.0</td>\n",
       "      <td>4</td>\n",
       "      <td>0</td>\n",
       "      <td>0</td>\n",
       "      <td>0</td>\n",
       "      <td>1.0</td>\n",
       "    </tr>\n",
       "    <tr>\n",
       "      <th>2</th>\n",
       "      <td>0</td>\n",
       "      <td>0.658180</td>\n",
       "      <td>38</td>\n",
       "      <td>1</td>\n",
       "      <td>0.085113</td>\n",
       "      <td>3042.0</td>\n",
       "      <td>2</td>\n",
       "      <td>1</td>\n",
       "      <td>0</td>\n",
       "      <td>0</td>\n",
       "      <td>0.0</td>\n",
       "    </tr>\n",
       "    <tr>\n",
       "      <th>3</th>\n",
       "      <td>0</td>\n",
       "      <td>0.233810</td>\n",
       "      <td>30</td>\n",
       "      <td>0</td>\n",
       "      <td>0.036050</td>\n",
       "      <td>3300.0</td>\n",
       "      <td>5</td>\n",
       "      <td>0</td>\n",
       "      <td>0</td>\n",
       "      <td>0</td>\n",
       "      <td>0.0</td>\n",
       "    </tr>\n",
       "    <tr>\n",
       "      <th>4</th>\n",
       "      <td>0</td>\n",
       "      <td>0.907239</td>\n",
       "      <td>49</td>\n",
       "      <td>1</td>\n",
       "      <td>0.024926</td>\n",
       "      <td>63588.0</td>\n",
       "      <td>7</td>\n",
       "      <td>0</td>\n",
       "      <td>1</td>\n",
       "      <td>0</td>\n",
       "      <td>0.0</td>\n",
       "    </tr>\n",
       "  </tbody>\n",
       "</table>\n",
       "</div>"
      ],
      "text/plain": [
       "   SeriousDlqin2yrs  RevolvingUtilizationOfUnsecuredLines  ...  NumberOfTime60-89DaysPastDueNotWorse  NumberOfDependents\n",
       "0                 1                              0.766127  ...                                     0                 2.0\n",
       "1                 0                              0.957151  ...                                     0                 1.0\n",
       "2                 0                              0.658180  ...                                     0                 0.0\n",
       "3                 0                              0.233810  ...                                     0                 0.0\n",
       "4                 0                              0.907239  ...                                     0                 0.0\n",
       "\n",
       "[5 rows x 11 columns]"
      ]
     },
     "execution_count": 6,
     "metadata": {},
     "output_type": "execute_result"
    }
   ],
   "source": [
    "# Dropping the first column since it was a repitition of the index column\n",
    "df_train=pd.read_csv('cs-training.csv').iloc[:,1:]\n",
    "df_test=pd.read_csv('cs-test.csv').iloc[:,1:].drop('SeriousDlqin2yrs',axis=1)\n",
    "\n",
    "df_train.head()"
   ]
  },
  {
   "cell_type": "markdown",
   "metadata": {},
   "source": [
    "## Data Cleaning"
   ]
  },
  {
   "cell_type": "code",
   "execution_count": 7,
   "metadata": {},
   "outputs": [
    {
     "name": "stdout",
     "output_type": "stream",
     "text": [
      "Training set has 150000 rows and 11 columns\n",
      "Test set has 101503 rows and 10 columns\n"
     ]
    }
   ],
   "source": [
    "print(f'Training set has {df_train.shape[0]} rows and {df_train.shape[1]} columns')\n",
    "print(f'Test set has {df_test.shape[0]} rows and {df_test.shape[1]} columns')"
   ]
  },
  {
   "cell_type": "code",
   "execution_count": 8,
   "metadata": {},
   "outputs": [
    {
     "data": {
      "text/plain": [
       "SeriousDlqin2yrs                         0.00\n",
       "RevolvingUtilizationOfUnsecuredLines     0.00\n",
       "age                                      0.00\n",
       "NumberOfTime30-59DaysPastDueNotWorse     0.00\n",
       "DebtRatio                                0.00\n",
       "MonthlyIncome                           19.82\n",
       "NumberOfOpenCreditLinesAndLoans          0.00\n",
       "NumberOfTimes90DaysLate                  0.00\n",
       "NumberRealEstateLoansOrLines             0.00\n",
       "NumberOfTime60-89DaysPastDueNotWorse     0.00\n",
       "NumberOfDependents                       2.62\n",
       "dtype: float64"
      ]
     },
     "execution_count": 8,
     "metadata": {},
     "output_type": "execute_result"
    }
   ],
   "source": [
    "# Identifying columns with missing values\n",
    "\n",
    "np.round(100*df_train.isnull().sum()/len(df_train),2)"
   ]
  },
  {
   "cell_type": "markdown",
   "metadata": {},
   "source": [
    "It appears monthly income and number od dependents have around 20% and 3% missing values respectively. Imputation strategies need to be decided after looking at the distribution of these variables"
   ]
  },
  {
   "cell_type": "code",
   "execution_count": 9,
   "metadata": {},
   "outputs": [
    {
     "data": {
      "text/plain": [
       "<matplotlib.axes._subplots.AxesSubplot at 0x128e28a9d88>"
      ]
     },
     "execution_count": 9,
     "metadata": {},
     "output_type": "execute_result"
    },
    {
     "data": {
      "image/png": "[encoded data removed]",
      "text/plain": [
       "<Figure size 432x288 with 1 Axes>"
      ]
     },
     "metadata": {
      "needs_background": "light"
     },
     "output_type": "display_data"
    }
   ],
   "source": [
    "# Visualizing the monthly income column\n",
    "\n",
    "sns.violinplot(data=df_train,y='MonthlyIncome')"
   ]
  },
  {
   "cell_type": "markdown",
   "metadata": {},
   "source": [
    "As seen above, monthly income has a very long tail and missing values will be imputed with the median value"
   ]
  },
  {
   "cell_type": "code",
   "execution_count": 10,
   "metadata": {},
   "outputs": [],
   "source": [
    "# Imputing missing values in the monthly income column with the median income\n",
    "income_med=df_train['MonthlyIncome'].median()\n",
    "df_train['MonthlyIncome']=df_train['MonthlyIncome'].fillna(income_med)\n",
    "df_test['MonthlyIncome']=df_test['MonthlyIncome'].fillna(income_med)"
   ]
  },
  {
   "cell_type": "code",
   "execution_count": 11,
   "metadata": {},
   "outputs": [
    {
     "data": {
      "image/png": "[encoded data removed]",
      "text/plain": [
       "<Figure size 432x288 with 1 Axes>"
      ]
     },
     "metadata": {
      "needs_background": "light"
     },
     "output_type": "display_data"
    }
   ],
   "source": [
    "# Visualizing number of dependents \n",
    "base_color=sns.color_palette()[0]\n",
    "sns.countplot(data=df_train,x='NumberOfDependents',color=base_color);"
   ]
  },
  {
   "cell_type": "markdown",
   "metadata": {},
   "source": [
    "Vast majority of the people have no dependents and hence missing values will be imputed with 0"
   ]
  },
  {
   "cell_type": "code",
   "execution_count": 12,
   "metadata": {},
   "outputs": [],
   "source": [
    "df_train['NumberOfDependents']=df_train['NumberOfDependents'].fillna(0)\n",
    "df_test['NumberOfDependents']=df_test['NumberOfDependents'].fillna(0)"
   ]
  },
  {
   "cell_type": "markdown",
   "metadata": {},
   "source": [
    "## visualizing and understanding data"
   ]
  },
  {
   "cell_type": "code",
   "execution_count": 13,
   "metadata": {},
   "outputs": [
    {
     "data": {
      "image/png": "[encoded data removed]",
      "text/plain": [
       "<Figure size 720x576 with 2 Axes>"
      ]
     },
     "metadata": {
      "needs_background": "light"
     },
     "output_type": "display_data"
    }
   ],
   "source": [
    "# Calculating the correlation matrix between different variables\n",
    "corr_matrix=df_train.corr()\n",
    "\n",
    "mask = np.zeros_like(corr_matrix, dtype=np.bool)\n",
    "mask[np.triu_indices_from(mask)] = True\n",
    "\n",
    "# Set up the matplotlib figure\n",
    "f, ax = plt.subplots(figsize=(10,8))\n",
    "\n",
    "# Generate a custom diverging colormap\n",
    "cmap = sns.diverging_palette(800, 14, as_cmap=True)\n",
    "\n",
    "# Draw the heatmap with the mask and correct aspect ratio\n",
    "sns.heatmap(corr_matrix, mask=mask, cmap=cmap, vmax=.3, center=0,\n",
    "            square=True, linewidths=.5, cbar_kws={\"shrink\": .5});"
   ]
  },
  {
   "cell_type": "markdown",
   "metadata": {},
   "source": [
    "+ From the above heatmap it is evident that NumberofDependants, NumberOfTime60-89DaysPastDueNotWorse, NumberOfTimes90DaysLate, NumberOfTime30-59DaysPastDueNotWorse and age are the most important factors in predicting possibility of delinquency.  \n",
    "  \n",
    "  \n",
    "+ Past delinquency records,number of dependents and  a person's age are determining factors to predict delinquency"
   ]
  },
  {
   "cell_type": "code",
   "execution_count": 14,
   "metadata": {},
   "outputs": [],
   "source": [
    "def plot_multiple(col_names,m=3,n=2):\n",
    "    base_color=sns.color_palette()[0]\n",
    "    i=1\n",
    "    for col in col_names:\n",
    "        fig=plt.subplot(m,n,i)\n",
    "        fig.xaxis.set_ticklabels([])\n",
    "        sns.violinplot(data=df_train,y=col,x='SeriousDlqin2yrs',color=base_color)\n",
    "        i+=1"
   ]
  },
  {
   "cell_type": "code",
   "execution_count": 15,
   "metadata": {},
   "outputs": [
    {
     "data": {
      "image/png": "[encoded data removed]",
      "text/plain": [
       "<Figure size 432x288 with 5 Axes>"
      ]
     },
     "metadata": {
      "needs_background": "light"
     },
     "output_type": "display_data"
    }
   ],
   "source": [
    "# Plotting the more correlated variables against the default column\n",
    "\n",
    "df_train['SeriousDlqin2yrs']=df_train['SeriousDlqin2yrs'].astype('category')\n",
    "base_color=sns.color_palette()[0]\n",
    "\n",
    "cols_to_plot=['NumberOfDependents','NumberOfTime60-89DaysPastDueNotWorse','NumberOfTimes90DaysLate',\n",
    "             'NumberOfTime30-59DaysPastDueNotWorse','age']\n",
    "\n",
    "plot_multiple(cols_to_plot)\n",
    "    \n",
    "plt.subplots_adjust(right=1.5,top=1.5,left=0,bottom=0,wspace=0.8,hspace=2)\n"
   ]
  },
  {
   "cell_type": "markdown",
   "metadata": {},
   "source": [
    "+ It appears that people with more than 10 dependents are less likely to default. \n",
    "+ people who default tend to delay their payments\n",
    "+ Although the difference is small, younger people tend to default more"
   ]
  },
  {
   "cell_type": "code",
   "execution_count": 16,
   "metadata": {},
   "outputs": [],
   "source": [
    "#resetting matplotlib plotting parameters\n",
    "mpl.rcParams.update(mpl.rcParamsDefault)"
   ]
  },
  {
   "cell_type": "code",
   "execution_count": 17,
   "metadata": {},
   "outputs": [
    {
     "data": {
      "image/png": "[encoded data removed]",
      "text/plain": [
       "<Figure size 640x480 with 1 Axes>"
      ]
     },
     "metadata": {},
     "output_type": "display_data"
    }
   ],
   "source": [
    " # Plotting distribution of the target column\n",
    "sns.countplot(data=df_train,x='SeriousDlqin2yrs',color=base_color);"
   ]
  },
  {
   "cell_type": "markdown",
   "metadata": {},
   "source": [
    "There is class imbalance in this dataset and data needs to be upsampled to properly predict delinquency"
   ]
  },
  {
   "cell_type": "markdown",
   "metadata": {},
   "source": [
    "## Model Building"
   ]
  },
  {
   "cell_type": "markdown",
   "metadata": {},
   "source": [
    "#### Upsampling"
   ]
  },
  {
   "cell_type": "code",
   "execution_count": 18,
   "metadata": {},
   "outputs": [],
   "source": [
    "\n",
    "X,y=df_train.drop('SeriousDlqin2yrs',axis=1),df_train['SeriousDlqin2yrs']\n",
    "sm=SMOTE(random_state=21)\n",
    "X1,y1=sm.fit_resample(X,y)"
   ]
  },
  {
   "cell_type": "code",
   "execution_count": 19,
   "metadata": {},
   "outputs": [
    {
     "data": {
      "text/plain": [
       "1    139974\n",
       "0    139974\n",
       "Name: SeriousDlqin2yrs, dtype: int64"
      ]
     },
     "execution_count": 19,
     "metadata": {},
     "output_type": "execute_result"
    }
   ],
   "source": [
    "y1.value_counts()"
   ]
  },
  {
   "cell_type": "markdown",
   "metadata": {},
   "source": [
    "#### Train-test-split"
   ]
  },
  {
   "cell_type": "code",
   "execution_count": 21,
   "metadata": {},
   "outputs": [
    {
     "name": "stdout",
     "output_type": "stream",
     "text": [
      "training set [(251953, 10), (251953,)]\n",
      "test set [(27995, 10), (27995,)]\n"
     ]
    }
   ],
   "source": [
    "\n",
    "X_train,X_test,y_train,y_test=train_test_split(X1,y1,test_size=0.1,random_state=42)\n",
    "print('training set',[X_train.shape,y_train.shape])\n",
    "print('test set',[X_test.shape,y_test.shape])"
   ]
  },
  {
   "cell_type": "code",
   "execution_count": 22,
   "metadata": {},
   "outputs": [],
   "source": [
    "sc=StandardScaler()\n",
    "X_train_scaled=sc.fit_transform(X_train)\n",
    "X_test_scaled=sc.transform(X_test)\n",
    "df_test_scaled=sc.transform(df_test)"
   ]
  },
  {
   "cell_type": "markdown",
   "metadata": {},
   "source": [
    "#### Fitting logistic regression model"
   ]
  },
  {
   "cell_type": "code",
   "execution_count": 27,
   "metadata": {},
   "outputs": [
    {
     "name": "stdout",
     "output_type": "stream",
     "text": [
      "0.6557838852974105\n"
     ]
    }
   ],
   "source": [
    "lr1=LogisticRegression()\n",
    "lr1.fit(X_train_scaled,y_train)\n",
    "pred=lr1.predict(X_test_scaled)\n",
    "print(f1_score(y_test,pred))"
   ]
  },
  {
   "cell_type": "markdown",
   "metadata": {},
   "source": [
    "#### Xgboost with Randomized search"
   ]
  },
  {
   "cell_type": "code",
   "execution_count": 35,
   "metadata": {},
   "outputs": [
    {
     "name": "stdout",
     "output_type": "stream",
     "text": [
      "299.6404778957367\n"
     ]
    }
   ],
   "source": [
    "kf=KFold(n_splits=5)\n",
    "\n",
    "params={'max_depth':[3,5,7],\n",
    " 'learning_rate':[0.01,0.015,0.02,0.05,0.1],\n",
    "'gamma':[0.05,0.1,0.3],\n",
    "'min_child_weight':[1,3,5],\n",
    "'subsample':[0.6,0.8],\n",
    "'colsample_bytree':[0.6,0.8],\n",
    "'reg_alpha':[0.01,0.1,0.5,1,3],\n",
    "'reg_lambda':[0.1,0.5,1]}\n",
    "\n",
    "xgb=XGBClassifier(n_jobs=-1)\n",
    "\n",
    "xgb_grid=RandomizedSearchCV(xgb,params,scoring='f1',cv=kf)\n",
    "\n",
    "start_time=time.time()\n",
    "xgb_grid.fit(X_train_scaled,y_train)\n",
    "print('Training time:',time.time()-start_time)"
   ]
  },
  {
   "cell_type": "code",
   "execution_count": 38,
   "metadata": {},
   "outputs": [
    {
     "data": {
      "text/plain": [
       "{'subsample': 0.6,\n",
       " 'reg_lambda': 0.1,\n",
       " 'reg_alpha': 0.1,\n",
       " 'min_child_weight': 3,\n",
       " 'max_depth': 7,\n",
       " 'learning_rate': 0.05,\n",
       " 'gamma': 0.1,\n",
       " 'colsample_bytree': 0.6}"
      ]
     },
     "execution_count": 38,
     "metadata": {},
     "output_type": "execute_result"
    }
   ],
   "source": [
    "xgb_grid.best_params_"
   ]
  },
  {
   "cell_type": "code",
   "execution_count": 37,
   "metadata": {},
   "outputs": [
    {
     "data": {
      "text/plain": [
       "0.871234279028956"
      ]
     },
     "execution_count": 37,
     "metadata": {},
     "output_type": "execute_result"
    }
   ],
   "source": [
    "pred=xgb_grid.predict(X_test_scaled)\n",
    "f1_score(y_test,pred)"
   ]
  },
  {
   "cell_type": "code",
   "execution_count": null,
   "metadata": {},
   "outputs": [],
   "source": []
  },
  {
   "cell_type": "code",
   "execution_count": null,
   "metadata": {},
   "outputs": [],
   "source": []
  },
  {
   "cell_type": "code",
   "execution_count": null,
   "metadata": {},
   "outputs": [],
   "source": []
  },
  {
   "cell_type": "code",
   "execution_count": null,
   "metadata": {},
   "outputs": [],
   "source": []
  }
 ],
 "metadata": {
  "hide_input": false,
  "kernelspec": {
   "display_name": "TensorFlow-GPU-2.1.0",
   "language": "python",
   "name": "tf-gpu"
  },
  "language_info": {
   "codemirror_mode": {
    "name": "ipython",
    "version": 3
   },
   "file_extension": ".py",
   "mimetype": "text/x-python",
   "name": "python",
   "nbconvert_exporter": "python",
   "pygments_lexer": "ipython3",
   "version": "3.7.7"
  }
 },
 "nbformat": 4,
 "nbformat_minor": 4
}
